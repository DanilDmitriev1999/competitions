{
  "nbformat": 4,
  "nbformat_minor": 0,
  "metadata": {
    "colab": {
      "name": "FakeNews.ipynb",
      "provenance": []
    },
    "kernelspec": {
      "name": "python3",
      "display_name": "Python 3"
    },
    "accelerator": "GPU"
  },
  "cells": [
    {
      "cell_type": "markdown",
      "metadata": {
        "id": "fV310q_ZCHnJ"
      },
      "source": [
        "# Техническая часть"
      ]
    },
    {
      "cell_type": "code",
      "metadata": {
        "id": "Z5d0l3xOCcmN",
        "outputId": "663c184d-d3d3-4ab7-b917-939f941b64d7",
        "colab": {
          "base_uri": "https://localhost:8080/",
          "height": 34
        }
      },
      "source": [
        "!git clone https://github.com/DanilDmitriev1999/competitions"
      ],
      "execution_count": null,
      "outputs": [
        {
          "output_type": "stream",
          "text": [
            "fatal: destination path 'competitions' already exists and is not an empty directory.\n"
          ],
          "name": "stdout"
        }
      ]
    },
    {
      "cell_type": "code",
      "metadata": {
        "id": "gtyB6jdnCgEc",
        "outputId": "7abf1b3a-fdc5-46d4-9c97-915114df60d0",
        "colab": {
          "base_uri": "https://localhost:8080/",
          "height": 340
        }
      },
      "source": [
        "!pip install transformers"
      ],
      "execution_count": null,
      "outputs": [
        {
          "output_type": "stream",
          "text": [
            "Requirement already satisfied: transformers in /usr/local/lib/python3.6/dist-packages (3.1.0)\n",
            "Requirement already satisfied: regex!=2019.12.17 in /usr/local/lib/python3.6/dist-packages (from transformers) (2019.12.20)\n",
            "Requirement already satisfied: numpy in /usr/local/lib/python3.6/dist-packages (from transformers) (1.18.5)\n",
            "Requirement already satisfied: requests in /usr/local/lib/python3.6/dist-packages (from transformers) (2.23.0)\n",
            "Requirement already satisfied: packaging in /usr/local/lib/python3.6/dist-packages (from transformers) (20.4)\n",
            "Requirement already satisfied: sentencepiece!=0.1.92 in /usr/local/lib/python3.6/dist-packages (from transformers) (0.1.91)\n",
            "Requirement already satisfied: sacremoses in /usr/local/lib/python3.6/dist-packages (from transformers) (0.0.43)\n",
            "Requirement already satisfied: tqdm>=4.27 in /usr/local/lib/python3.6/dist-packages (from transformers) (4.41.1)\n",
            "Requirement already satisfied: tokenizers==0.8.1.rc2 in /usr/local/lib/python3.6/dist-packages (from transformers) (0.8.1rc2)\n",
            "Requirement already satisfied: dataclasses; python_version < \"3.7\" in /usr/local/lib/python3.6/dist-packages (from transformers) (0.7)\n",
            "Requirement already satisfied: filelock in /usr/local/lib/python3.6/dist-packages (from transformers) (3.0.12)\n",
            "Requirement already satisfied: chardet<4,>=3.0.2 in /usr/local/lib/python3.6/dist-packages (from requests->transformers) (3.0.4)\n",
            "Requirement already satisfied: certifi>=2017.4.17 in /usr/local/lib/python3.6/dist-packages (from requests->transformers) (2020.6.20)\n",
            "Requirement already satisfied: urllib3!=1.25.0,!=1.25.1,<1.26,>=1.21.1 in /usr/local/lib/python3.6/dist-packages (from requests->transformers) (1.24.3)\n",
            "Requirement already satisfied: idna<3,>=2.5 in /usr/local/lib/python3.6/dist-packages (from requests->transformers) (2.10)\n",
            "Requirement already satisfied: six in /usr/local/lib/python3.6/dist-packages (from packaging->transformers) (1.15.0)\n",
            "Requirement already satisfied: pyparsing>=2.0.2 in /usr/local/lib/python3.6/dist-packages (from packaging->transformers) (2.4.7)\n",
            "Requirement already satisfied: click in /usr/local/lib/python3.6/dist-packages (from sacremoses->transformers) (7.1.2)\n",
            "Requirement already satisfied: joblib in /usr/local/lib/python3.6/dist-packages (from sacremoses->transformers) (0.16.0)\n"
          ],
          "name": "stdout"
        }
      ]
    },
    {
      "cell_type": "code",
      "metadata": {
        "id": "59NLGvgbCDWh",
        "outputId": "3029dd8b-8cf2-452d-a722-6a3c1f835573",
        "colab": {
          "base_uri": "https://localhost:8080/",
          "height": 71
        }
      },
      "source": [
        "import pandas as pd\n",
        "import numpy as np\n",
        "\n",
        "import seaborn as sns\n",
        "import matplotlib.pyplot as plt\n",
        "\n",
        "import math\n",
        "from tqdm import tqdm\n",
        "from sklearn.model_selection import train_test_split\n",
        "from sklearn.metrics import f1_score\n",
        "\n",
        "import torch\n",
        "import torch.nn as nn\n",
        "import torch.nn.functional as F\n",
        "import torch.optim as optim\n",
        "\n",
        "from torch.utils.data import DataLoader, Dataset, RandomSampler, TensorDataset\n",
        "\n",
        "from transformers import DistilBertModel, DistilBertTokenizer\n",
        "from transformers import BertModel, BertTokenizer\n",
        "\n",
        "np.random.seed(42)\n",
        "torch.manual_seed(42)\n",
        "device = 'cuda' if torch.cuda.is_available() else 'cpu'\n",
        "\n",
        "import warnings\n",
        "warnings.filterwarnings(\"ignore\")"
      ],
      "execution_count": null,
      "outputs": [
        {
          "output_type": "stream",
          "text": [
            "/usr/local/lib/python3.6/dist-packages/statsmodels/tools/_testing.py:19: FutureWarning: pandas.util.testing is deprecated. Use the functions in the public API at pandas.testing instead.\n",
            "  import pandas.util.testing as tm\n"
          ],
          "name": "stderr"
        }
      ]
    },
    {
      "cell_type": "markdown",
      "metadata": {
        "id": "Az1ASVgVC9_Y"
      },
      "source": [
        "# Загрузка данных и EDA"
      ]
    },
    {
      "cell_type": "code",
      "metadata": {
        "id": "tEBwuL0YzVo8"
      },
      "source": [
        "train = pd.read_csv(\"competitions/final_project/train.csv\", sep='\t', index_col=0)\n",
        "test = pd.read_csv(\"competitions/final_project/test.csv\", sep='\t', index_col=0)"
      ],
      "execution_count": null,
      "outputs": []
    },
    {
      "cell_type": "code",
      "metadata": {
        "id": "M71ZbUtyDKGh",
        "outputId": "4345842d-8913-4da3-a41b-1d834e9f6320",
        "colab": {
          "base_uri": "https://localhost:8080/",
          "height": 204
        }
      },
      "source": [
        "train.head()"
      ],
      "execution_count": null,
      "outputs": [
        {
          "output_type": "execute_result",
          "data": {
            "text/html": [
              "<div>\n",
              "<style scoped>\n",
              "    .dataframe tbody tr th:only-of-type {\n",
              "        vertical-align: middle;\n",
              "    }\n",
              "\n",
              "    .dataframe tbody tr th {\n",
              "        vertical-align: top;\n",
              "    }\n",
              "\n",
              "    .dataframe thead th {\n",
              "        text-align: right;\n",
              "    }\n",
              "</style>\n",
              "<table border=\"1\" class=\"dataframe\">\n",
              "  <thead>\n",
              "    <tr style=\"text-align: right;\">\n",
              "      <th></th>\n",
              "      <th>text</th>\n",
              "      <th>class</th>\n",
              "    </tr>\n",
              "  </thead>\n",
              "  <tbody>\n",
              "    <tr>\n",
              "      <th>11028</th>\n",
              "      <td>Издание Arabian Business Magazine опубликовало...</td>\n",
              "      <td>true</td>\n",
              "    </tr>\n",
              "    <tr>\n",
              "      <th>11570</th>\n",
              "      <td>Физик Эдуард Хейндль из Фуртвангенского универ...</td>\n",
              "      <td>true</td>\n",
              "    </tr>\n",
              "    <tr>\n",
              "      <th>10000</th>\n",
              "      <td>Итальянский специалист Фабио Капелло останется...</td>\n",
              "      <td>true</td>\n",
              "    </tr>\n",
              "    <tr>\n",
              "      <th>4668</th>\n",
              "      <td>В белорусских кинотеатрах запись инаугурации П...</td>\n",
              "      <td>fake</td>\n",
              "    </tr>\n",
              "    <tr>\n",
              "      <th>11358</th>\n",
              "      <td>Премьер-министр Украины Юлия Тимошенко 8 февра...</td>\n",
              "      <td>true</td>\n",
              "    </tr>\n",
              "  </tbody>\n",
              "</table>\n",
              "</div>"
            ],
            "text/plain": [
              "                                                    text class\n",
              "11028  Издание Arabian Business Magazine опубликовало...  true\n",
              "11570  Физик Эдуард Хейндль из Фуртвангенского универ...  true\n",
              "10000  Итальянский специалист Фабио Капелло останется...  true\n",
              "4668   В белорусских кинотеатрах запись инаугурации П...  fake\n",
              "11358  Премьер-министр Украины Юлия Тимошенко 8 февра...  true"
            ]
          },
          "metadata": {
            "tags": []
          },
          "execution_count": 4
        }
      ]
    },
    {
      "cell_type": "code",
      "metadata": {
        "id": "jk80g4loGQTL",
        "outputId": "a771fb7f-e997-4df3-bf96-1507e2feb1cf",
        "colab": {
          "base_uri": "https://localhost:8080/",
          "height": 34
        }
      },
      "source": [
        "train['text'].isnull().sum()"
      ],
      "execution_count": null,
      "outputs": [
        {
          "output_type": "execute_result",
          "data": {
            "text/plain": [
              "117"
            ]
          },
          "metadata": {
            "tags": []
          },
          "execution_count": 5
        }
      ]
    },
    {
      "cell_type": "code",
      "metadata": {
        "id": "pdIbX0NnGTi9",
        "outputId": "966073ad-5968-4288-d8a9-ea8ca0eeb74a",
        "colab": {
          "base_uri": "https://localhost:8080/",
          "height": 34
        }
      },
      "source": [
        "train = train.dropna()\n",
        "train['text'].isnull().sum()"
      ],
      "execution_count": null,
      "outputs": [
        {
          "output_type": "execute_result",
          "data": {
            "text/plain": [
              "0"
            ]
          },
          "metadata": {
            "tags": []
          },
          "execution_count": 6
        }
      ]
    },
    {
      "cell_type": "code",
      "metadata": {
        "id": "F83K3PIPDqLA",
        "outputId": "1ce68ad6-6180-4ed2-db98-f663931545fd",
        "colab": {
          "base_uri": "https://localhost:8080/",
          "height": 111
        }
      },
      "source": [
        "def tru_fake(b):\n",
        "    if b == 'true':\n",
        "        return 1\n",
        "    elif b == 'fake':\n",
        "        return 0\n",
        "\n",
        "train['class'] = train.apply(lambda r: tru_fake(r['class']), axis=1)\n",
        "train.head(2)"
      ],
      "execution_count": null,
      "outputs": [
        {
          "output_type": "execute_result",
          "data": {
            "text/html": [
              "<div>\n",
              "<style scoped>\n",
              "    .dataframe tbody tr th:only-of-type {\n",
              "        vertical-align: middle;\n",
              "    }\n",
              "\n",
              "    .dataframe tbody tr th {\n",
              "        vertical-align: top;\n",
              "    }\n",
              "\n",
              "    .dataframe thead th {\n",
              "        text-align: right;\n",
              "    }\n",
              "</style>\n",
              "<table border=\"1\" class=\"dataframe\">\n",
              "  <thead>\n",
              "    <tr style=\"text-align: right;\">\n",
              "      <th></th>\n",
              "      <th>text</th>\n",
              "      <th>class</th>\n",
              "    </tr>\n",
              "  </thead>\n",
              "  <tbody>\n",
              "    <tr>\n",
              "      <th>11028</th>\n",
              "      <td>Издание Arabian Business Magazine опубликовало...</td>\n",
              "      <td>1</td>\n",
              "    </tr>\n",
              "    <tr>\n",
              "      <th>11570</th>\n",
              "      <td>Физик Эдуард Хейндль из Фуртвангенского универ...</td>\n",
              "      <td>1</td>\n",
              "    </tr>\n",
              "  </tbody>\n",
              "</table>\n",
              "</div>"
            ],
            "text/plain": [
              "                                                    text  class\n",
              "11028  Издание Arabian Business Magazine опубликовало...      1\n",
              "11570  Физик Эдуард Хейндль из Фуртвангенского универ...      1"
            ]
          },
          "metadata": {
            "tags": []
          },
          "execution_count": 7
        }
      ]
    },
    {
      "cell_type": "code",
      "metadata": {
        "id": "G5wsDHLrEMGx",
        "outputId": "865c78ec-89f5-4214-ccb2-f61e25ec0e3c",
        "colab": {
          "base_uri": "https://localhost:8080/",
          "height": 337
        }
      },
      "source": [
        "len_review = [len(i.split(' ')) for i in train['text'].values]\n",
        "\n",
        "plt.figure(figsize=(20, 5))\n",
        "sns.distplot(len_review)"
      ],
      "execution_count": null,
      "outputs": [
        {
          "output_type": "execute_result",
          "data": {
            "text/plain": [
              "<matplotlib.axes._subplots.AxesSubplot at 0x7f87cad49128>"
            ]
          },
          "metadata": {
            "tags": []
          },
          "execution_count": 8
        },
        {
          "output_type": "display_data",
          "data": {
            "image/png": "[encoded data removed]",
            "text/plain": [
              "<Figure size 1440x360 with 1 Axes>"
            ]
          },
          "metadata": {
            "tags": [],
            "needs_background": "light"
          }
        }
      ]
    },
    {
      "cell_type": "code",
      "metadata": {
        "id": "t16cQmNOHJx_",
        "outputId": "980e12d4-f4ca-4cff-96f2-8ec1edea6e40",
        "colab": {
          "base_uri": "https://localhost:8080/",
          "height": 68
        }
      },
      "source": [
        "train['class'].value_counts()"
      ],
      "execution_count": null,
      "outputs": [
        {
          "output_type": "execute_result",
          "data": {
            "text/plain": [
              "1    15919\n",
              "0     3964\n",
              "Name: class, dtype: int64"
            ]
          },
          "metadata": {
            "tags": []
          },
          "execution_count": 9
        }
      ]
    },
    {
      "cell_type": "code",
      "metadata": {
        "id": "6xovi7yTFWLf"
      },
      "source": [
        "text_train, text_val, label_train, label_val = train_test_split(train['text'], train['class'].values,\n",
        "                                                    test_size=0.01, stratify=train['class'].values,\n",
        "                                                     random_state=40)"
      ],
      "execution_count": null,
      "outputs": []
    },
    {
      "cell_type": "markdown",
      "metadata": {
        "id": "fa20lpn6Hw45"
      },
      "source": [
        "# Строим модель"
      ]
    },
    {
      "cell_type": "code",
      "metadata": {
        "id": "X6Rv1VCWHvlS"
      },
      "source": [
        "class CreateDataset(Dataset):\n",
        "\n",
        "  def __init__(self, sentence, targets, tokenizer, max_len):\n",
        "    self.sentence = sentence\n",
        "    self.targets = targets\n",
        "    self.tokenizer = tokenizer\n",
        "    self.max_len = max_len\n",
        "  \n",
        "  def __len__(self):\n",
        "    return len(self.sentence)\n",
        "  \n",
        "  def __getitem__(self, item):\n",
        "    sentence = str(self.sentence[item])\n",
        "    target = self.targets[item]\n",
        "\n",
        "    encoding = self.tokenizer.encode_plus(\n",
        "      sentence,\n",
        "      add_special_tokens=True,\n",
        "      max_length=self.max_len,\n",
        "      return_token_type_ids=False,\n",
        "      pad_to_max_length=True,\n",
        "      return_attention_mask=True,\n",
        "      return_tensors='pt',\n",
        "      truncation=True\n",
        "    )\n",
        "\n",
        "    return {\n",
        "      'sentence_text': sentence,\n",
        "      'input_ids': encoding['input_ids'].flatten(),\n",
        "      'attention_mask': encoding['attention_mask'].flatten(),\n",
        "      'targets': torch.tensor(target, dtype=torch.long)\n",
        "    }\n",
        "\n",
        "\n",
        "def create_data_loader(dt, tokenizer, max_len, batch_size):\n",
        "  ds = CreateDataset(\n",
        "    sentence=dt['sentence'],\n",
        "    targets=dt['label'],\n",
        "    tokenizer=tokenizer,\n",
        "    max_len=max_len\n",
        "  )\n",
        "\n",
        "  return DataLoader(\n",
        "    ds,\n",
        "    batch_size=batch_size\n",
        "  )\n",
        "\n",
        "\n",
        "# tokenizer = DistilBertTokenizer.from_pretrained('distilbert-base-multilingual-cased')\n",
        "tokenizer = BertTokenizer.from_pretrained('DeepPavlov/rubert-base-cased')"
      ],
      "execution_count": null,
      "outputs": []
    },
    {
      "cell_type": "code",
      "metadata": {
        "id": "KeA3eSQnH6-P"
      },
      "source": [
        "train_dataEng = {'sentence':[i for i in text_train],\n",
        "              'label':[i for i in label_train]}\n",
        "val_dataEng = {'sentence':[i for i in text_val],\n",
        "              'label':[i for i in label_val]}\n",
        "\n",
        "BATCH_SIZE = 8\n",
        "MAX_LEN = 400\n",
        "\n",
        "train_data_loader_eng = create_data_loader(train_dataEng, tokenizer, MAX_LEN, BATCH_SIZE)\n",
        "val_data_loader_eng = create_data_loader(val_dataEng, tokenizer, MAX_LEN, BATCH_SIZE)"
      ],
      "execution_count": null,
      "outputs": []
    },
    {
      "cell_type": "code",
      "metadata": {
        "id": "h7G7Q_uwH_9x"
      },
      "source": [
        "class SentimentClassifier(nn.Module):\n",
        "  def __init__(self, hidden_dim=256, bidirectional=True, num_layers=1):\n",
        "    super(SentimentClassifier, self).__init__()\n",
        "    # self.bert = DistilBertModel.from_pretrained('distilbert-base-multilingual-cased')\n",
        "    self.bert = BertModel.from_pretrained('DeepPavlov/rubert-base-cased')\n",
        "\n",
        "\n",
        "    self.rnn = nn.GRU(768, hidden_dim, bidirectional=bidirectional,\n",
        "                      num_layers=num_layers, batch_first=True,\n",
        "                      dropout = 0 if num_layers < 2 else 0.1)\n",
        "    \n",
        "    self.drop = nn.Dropout(p=0.1)\n",
        "    self.linear = nn.Linear(hidden_dim * 2 if bidirectional else hidden_dim, 1)\n",
        "  \n",
        "  def forward(self, input_ids, attention_mask):\n",
        "    bert_output = self.bert(\n",
        "      input_ids=input_ids,\n",
        "      attention_mask=attention_mask\n",
        "    )[0]\n",
        "\n",
        "    output = self.drop(bert_output)\n",
        "\n",
        "    _, hidden = self.rnn(output)\n",
        "\n",
        "    output = torch.cat((hidden[-2,:,:], hidden[-1,:,:]), dim = 1)\n",
        "    output = self.linear(output)\n",
        "\n",
        "    return output"
      ],
      "execution_count": null,
      "outputs": []
    },
    {
      "cell_type": "code",
      "metadata": {
        "id": "yBmMUIsjIHzk"
      },
      "source": [
        "def do_epoch(model, criterion, data, optimizer=None, name=None):\n",
        "    epoch_loss = 0\n",
        "    epoch_f1 = 0\n",
        "\n",
        "    \n",
        "    is_train = not optimizer is None\n",
        "    name = name or ''\n",
        "    model.train(is_train)\n",
        "    \n",
        "    batches_count = len(data)\n",
        "    \n",
        "    with torch.autograd.set_grad_enabled(is_train):\n",
        "        with tqdm(total=batches_count) as progress_bar:\n",
        "            for batch in data:\n",
        "                text = batch[\"input_ids\"].to(device)\n",
        "                targets = batch[\"targets\"].to(device)\n",
        "                mask = batch[\"attention_mask\"].to(device)\n",
        "\n",
        "                torch.cuda.empty_cache()\n",
        "                outputs = model(\n",
        "                    input_ids=text,\n",
        "                    attention_mask=mask\n",
        "                                ).squeeze(1)\n",
        "\n",
        "                preds = torch.round(torch.sigmoid(outputs))\n",
        "\n",
        "                loss = criterion(outputs.float(), targets.float())\n",
        "                \n",
        "                f1 = f1_score(targets.cpu().detach().numpy(), preds.cpu().detach().numpy())\n",
        "\n",
        "\n",
        "                epoch_loss += loss.item()\n",
        "                epoch_f1 += f1\n",
        "\n",
        "                if optimizer:\n",
        "                    loss.backward()\n",
        "                    nn.utils.clip_grad_norm_(model.parameters(), max_norm=1.0)\n",
        "                    optimizer.step()\n",
        "                    optimizer.zero_grad()\n",
        "\n",
        "                progress_bar.update()\n",
        "                progress_bar.set_description('{:>5s} Average Loss = {:.5f}, F1-score = {:.3%}'.format(\n",
        "                    name, loss , f1))\n",
        "\n",
        "            progress_bar.set_description('{:>5s} Average Loss = {:.5f}, F1-score = {:.3%}'.format(\n",
        "                name, epoch_loss / batches_count, epoch_f1 / batches_count))\n",
        "\n",
        "    return epoch_loss / batches_count\n",
        "\n",
        "\n",
        "def fit(model, criterion, optimizer, train_data, epochs_count=1,\n",
        "        val_data=None):\n",
        "    for epoch in range(epochs_count):\n",
        "        name_prefix = '[{} / {}] '.format(epoch + 1, epochs_count)\n",
        "        train_loss = do_epoch(model, criterion, train_data, optimizer, name_prefix + 'Train:')\n",
        "        \n",
        "        if not val_data is None:\n",
        "            val_loss = do_epoch(model, criterion, val_data, None, name_prefix + '  Val:')"
      ],
      "execution_count": null,
      "outputs": []
    },
    {
      "cell_type": "code",
      "metadata": {
        "id": "2xVFJ9J6IML3",
        "outputId": "4da23038-7aff-4b8d-db87-ef21de37908d",
        "colab": {
          "base_uri": "https://localhost:8080/",
          "height": 102
        }
      },
      "source": [
        "hidden_dim = 256\n",
        "model = SentimentClassifier(hidden_dim)\n",
        "model = model.to(device)\n",
        "\n",
        "EPOCHS = 3\n",
        "\n",
        "optimizer = optim.Adam(model.parameters(), lr=5e-5)\n",
        "criterion = nn.BCEWithLogitsLoss().to(device)\n",
        "fit(model, criterion, optimizer, train_data=train_data_loader_eng,\n",
        "    epochs_count=EPOCHS, val_data=val_data_loader_eng)"
      ],
      "execution_count": null,
      "outputs": [
        {
          "output_type": "stream",
          "text": [
            "[1 / 3] Train: Average Loss = 0.09540, F1-score = 98.445%: 100%|██████████| 2461/2461 [1:13:07<00:00,  1.78s/it]\n",
            "[1 / 3]   Val: Average Loss = 0.10346, F1-score = 98.142%: 100%|██████████| 25/25 [00:12<00:00,  2.03it/s]\n",
            "[2 / 3] Train: Average Loss = 0.12147, F1-score = 97.133%: 100%|██████████| 2461/2461 [1:13:10<00:00,  1.78s/it]\n",
            "[2 / 3]   Val: Average Loss = 0.28915, F1-score = 95.798%: 100%|██████████| 25/25 [00:12<00:00,  2.04it/s]\n",
            "[3 / 3] Train: Average Loss = 0.18347, F1-score = 93.333%:  54%|█████▎    | 1322/2461 [39:22<33:56,  1.79s/it]"
          ],
          "name": "stderr"
        }
      ]
    },
    {
      "cell_type": "code",
      "metadata": {
        "id": "cQ_Xi8kqzSou"
      },
      "source": [
        "def predict_bert(text, model):\n",
        "    encoded_review = tokenizer.encode_plus(\n",
        "        text,\n",
        "        max_length=MAX_LEN,\n",
        "        add_special_tokens=True,\n",
        "        return_token_type_ids=False,\n",
        "        pad_to_max_length=True,\n",
        "        return_attention_mask=True,\n",
        "        return_tensors='pt',\n",
        "        truncation=True\n",
        "        )\n",
        "    input_ids = encoded_review['input_ids'].to(device)\n",
        "    attention_mask = encoded_review['attention_mask'].to(device)\n",
        "\n",
        "    output = model(input_ids, attention_mask).squeeze(1)\n",
        "    preds = torch.round(torch.sigmoid(output))\n",
        "    return preds.cpu().detach().numpy()[0]"
      ],
      "execution_count": null,
      "outputs": []
    },
    {
      "cell_type": "code",
      "metadata": {
        "id": "83pNuCHGLcL4"
      },
      "source": [
        "a = predict_bert(ts[0], model)"
      ],
      "execution_count": null,
      "outputs": []
    },
    {
      "cell_type": "code",
      "metadata": {
        "id": "z67eM3QwL0Oy",
        "outputId": "7b89104b-cbc2-4835-df21-2ecdacc511d3",
        "colab": {
          "base_uri": "https://localhost:8080/",
          "height": 34
        }
      },
      "source": [
        "a"
      ],
      "execution_count": null,
      "outputs": [
        {
          "output_type": "execute_result",
          "data": {
            "text/plain": [
              "1.0"
            ]
          },
          "metadata": {
            "tags": []
          },
          "execution_count": 47
        }
      ]
    },
    {
      "cell_type": "markdown",
      "metadata": {
        "id": "lL9wTTVALIQZ"
      },
      "source": [
        "# сабмит теста"
      ]
    },
    {
      "cell_type": "code",
      "metadata": {
        "id": "ZN4JmhSsIQZg",
        "outputId": "0756628d-dcab-4697-8b41-8cb080fd607c",
        "colab": {
          "base_uri": "https://localhost:8080/",
          "height": 204
        }
      },
      "source": [
        "test.head()"
      ],
      "execution_count": null,
      "outputs": [
        {
          "output_type": "execute_result",
          "data": {
            "text/html": [
              "<div>\n",
              "<style scoped>\n",
              "    .dataframe tbody tr th:only-of-type {\n",
              "        vertical-align: middle;\n",
              "    }\n",
              "\n",
              "    .dataframe tbody tr th {\n",
              "        vertical-align: top;\n",
              "    }\n",
              "\n",
              "    .dataframe thead th {\n",
              "        text-align: right;\n",
              "    }\n",
              "</style>\n",
              "<table border=\"1\" class=\"dataframe\">\n",
              "  <thead>\n",
              "    <tr style=\"text-align: right;\">\n",
              "      <th></th>\n",
              "      <th>text</th>\n",
              "    </tr>\n",
              "  </thead>\n",
              "  <tbody>\n",
              "    <tr>\n",
              "      <th>9217</th>\n",
              "      <td>Кандидат на пост президента Украины Олег Царев...</td>\n",
              "    </tr>\n",
              "    <tr>\n",
              "      <th>22179</th>\n",
              "      <td>Болельщики бразильского клуба \"Фламенго\" за дв...</td>\n",
              "    </tr>\n",
              "    <tr>\n",
              "      <th>15357</th>\n",
              "      <td>Префект Северного административного округа Мос...</td>\n",
              "    </tr>\n",
              "    <tr>\n",
              "      <th>2930</th>\n",
              "      <td>Президентский Ельцин-центр пополнил свою экспо...</td>\n",
              "    </tr>\n",
              "    <tr>\n",
              "      <th>4834</th>\n",
              "      <td>Задержанного полицией безопасности Эстонии 20-...</td>\n",
              "    </tr>\n",
              "  </tbody>\n",
              "</table>\n",
              "</div>"
            ],
            "text/plain": [
              "                                                    text\n",
              "9217   Кандидат на пост президента Украины Олег Царев...\n",
              "22179  Болельщики бразильского клуба \"Фламенго\" за дв...\n",
              "15357  Префект Северного административного округа Мос...\n",
              "2930   Президентский Ельцин-центр пополнил свою экспо...\n",
              "4834   Задержанного полицией безопасности Эстонии 20-..."
            ]
          },
          "metadata": {
            "tags": []
          },
          "execution_count": 78
        }
      ]
    },
    {
      "cell_type": "code",
      "metadata": {
        "id": "YAHjrs2hMWu4",
        "outputId": "f74c53e3-418e-42bf-97d7-9948747e63d0",
        "colab": {
          "base_uri": "https://localhost:8080/",
          "height": 34
        }
      },
      "source": [
        "test['text'].isnull().sum()"
      ],
      "execution_count": null,
      "outputs": [
        {
          "output_type": "execute_result",
          "data": {
            "text/plain": [
              "22"
            ]
          },
          "metadata": {
            "tags": []
          },
          "execution_count": 79
        }
      ]
    },
    {
      "cell_type": "code",
      "metadata": {
        "id": "zEGSGpwNNFU7"
      },
      "source": [
        "test = test.fillna('-')"
      ],
      "execution_count": null,
      "outputs": []
    },
    {
      "cell_type": "code",
      "metadata": {
        "id": "qaaCK6duLd-s"
      },
      "source": [
        "ts = test['text'].values"
      ],
      "execution_count": null,
      "outputs": []
    },
    {
      "cell_type": "code",
      "metadata": {
        "id": "hSWo2Bd6LNXq"
      },
      "source": [
        "result = [predict_bert(i, model) for i in ts]"
      ],
      "execution_count": null,
      "outputs": []
    },
    {
      "cell_type": "code",
      "metadata": {
        "id": "mGg0G12ELQUK",
        "outputId": "b73f5427-837a-4578-a268-8a66fd90ceb6",
        "colab": {
          "base_uri": "https://localhost:8080/",
          "height": 34
        }
      },
      "source": [
        "test.shape, len(result)"
      ],
      "execution_count": null,
      "outputs": [
        {
          "output_type": "execute_result",
          "data": {
            "text/plain": [
              "((5046, 1), 5046)"
            ]
          },
          "metadata": {
            "tags": []
          },
          "execution_count": 83
        }
      ]
    },
    {
      "cell_type": "code",
      "metadata": {
        "id": "Cm12TM4xNqUS",
        "outputId": "fdca6fa5-e04f-4a28-e316-ac3d7a032612",
        "colab": {
          "base_uri": "https://localhost:8080/",
          "height": 204
        }
      },
      "source": [
        "test['class'] = result\n",
        "test.head()"
      ],
      "execution_count": null,
      "outputs": [
        {
          "output_type": "execute_result",
          "data": {
            "text/html": [
              "<div>\n",
              "<style scoped>\n",
              "    .dataframe tbody tr th:only-of-type {\n",
              "        vertical-align: middle;\n",
              "    }\n",
              "\n",
              "    .dataframe tbody tr th {\n",
              "        vertical-align: top;\n",
              "    }\n",
              "\n",
              "    .dataframe thead th {\n",
              "        text-align: right;\n",
              "    }\n",
              "</style>\n",
              "<table border=\"1\" class=\"dataframe\">\n",
              "  <thead>\n",
              "    <tr style=\"text-align: right;\">\n",
              "      <th></th>\n",
              "      <th>text</th>\n",
              "      <th>class</th>\n",
              "    </tr>\n",
              "  </thead>\n",
              "  <tbody>\n",
              "    <tr>\n",
              "      <th>9217</th>\n",
              "      <td>Кандидат на пост президента Украины Олег Царев...</td>\n",
              "      <td>1.0</td>\n",
              "    </tr>\n",
              "    <tr>\n",
              "      <th>22179</th>\n",
              "      <td>Болельщики бразильского клуба \"Фламенго\" за дв...</td>\n",
              "      <td>1.0</td>\n",
              "    </tr>\n",
              "    <tr>\n",
              "      <th>15357</th>\n",
              "      <td>Префект Северного административного округа Мос...</td>\n",
              "      <td>1.0</td>\n",
              "    </tr>\n",
              "    <tr>\n",
              "      <th>2930</th>\n",
              "      <td>Президентский Ельцин-центр пополнил свою экспо...</td>\n",
              "      <td>0.0</td>\n",
              "    </tr>\n",
              "    <tr>\n",
              "      <th>4834</th>\n",
              "      <td>Задержанного полицией безопасности Эстонии 20-...</td>\n",
              "      <td>0.0</td>\n",
              "    </tr>\n",
              "  </tbody>\n",
              "</table>\n",
              "</div>"
            ],
            "text/plain": [
              "                                                    text  class\n",
              "9217   Кандидат на пост президента Украины Олег Царев...    1.0\n",
              "22179  Болельщики бразильского клуба \"Фламенго\" за дв...    1.0\n",
              "15357  Префект Северного административного округа Мос...    1.0\n",
              "2930   Президентский Ельцин-центр пополнил свою экспо...    0.0\n",
              "4834   Задержанного полицией безопасности Эстонии 20-...    0.0"
            ]
          },
          "metadata": {
            "tags": []
          },
          "execution_count": 84
        }
      ]
    },
    {
      "cell_type": "code",
      "metadata": {
        "id": "1dEO8OH1Nw_r",
        "outputId": "82e20897-30e1-4ce4-a889-154cf26b47af",
        "colab": {
          "base_uri": "https://localhost:8080/",
          "height": 68
        }
      },
      "source": [
        "test['class'].value_counts()"
      ],
      "execution_count": null,
      "outputs": [
        {
          "output_type": "execute_result",
          "data": {
            "text/plain": [
              "1.0    3980\n",
              "0.0    1066\n",
              "Name: class, dtype: int64"
            ]
          },
          "metadata": {
            "tags": []
          },
          "execution_count": 85
        }
      ]
    },
    {
      "cell_type": "markdown",
      "metadata": {
        "id": "BbAbFXF42vV2"
      },
      "source": [
        "\n",
        "\n",
        "```\n",
        "1.0    3990\n",
        "0.0    1056\n",
        "Name: class, dtype: int64\n",
        "```\n",
        "\n"
      ]
    },
    {
      "cell_type": "code",
      "metadata": {
        "id": "5cA22XSeDaOZ",
        "outputId": "1649208c-a5f2-4596-83ae-0be8d6ef7f79",
        "colab": {
          "base_uri": "https://localhost:8080/",
          "height": 111
        }
      },
      "source": [
        "def int2class(b):\n",
        "    if b == 1:\n",
        "        return 'true'\n",
        "    elif b == 0:\n",
        "        return 'fake'\n",
        "\n",
        "test['class'] = test.apply(lambda r: int2class(r['class']), axis=1)\n",
        "test.head(2)"
      ],
      "execution_count": null,
      "outputs": [
        {
          "output_type": "execute_result",
          "data": {
            "text/html": [
              "<div>\n",
              "<style scoped>\n",
              "    .dataframe tbody tr th:only-of-type {\n",
              "        vertical-align: middle;\n",
              "    }\n",
              "\n",
              "    .dataframe tbody tr th {\n",
              "        vertical-align: top;\n",
              "    }\n",
              "\n",
              "    .dataframe thead th {\n",
              "        text-align: right;\n",
              "    }\n",
              "</style>\n",
              "<table border=\"1\" class=\"dataframe\">\n",
              "  <thead>\n",
              "    <tr style=\"text-align: right;\">\n",
              "      <th></th>\n",
              "      <th>text</th>\n",
              "      <th>class</th>\n",
              "    </tr>\n",
              "  </thead>\n",
              "  <tbody>\n",
              "    <tr>\n",
              "      <th>9217</th>\n",
              "      <td>Кандидат на пост президента Украины Олег Царев...</td>\n",
              "      <td>true</td>\n",
              "    </tr>\n",
              "    <tr>\n",
              "      <th>22179</th>\n",
              "      <td>Болельщики бразильского клуба \"Фламенго\" за дв...</td>\n",
              "      <td>true</td>\n",
              "    </tr>\n",
              "  </tbody>\n",
              "</table>\n",
              "</div>"
            ],
            "text/plain": [
              "                                                    text class\n",
              "9217   Кандидат на пост президента Украины Олег Царев...  true\n",
              "22179  Болельщики бразильского клуба \"Фламенго\" за дв...  true"
            ]
          },
          "metadata": {
            "tags": []
          },
          "execution_count": 86
        }
      ]
    },
    {
      "cell_type": "code",
      "metadata": {
        "id": "-G-FtoG6xwO7"
      },
      "source": [
        "test.to_csv('test.csv', sep='\\t', index=False)"
      ],
      "execution_count": null,
      "outputs": []
    },
    {
      "cell_type": "code",
      "metadata": {
        "id": "5aQffQK_xvDn"
      },
      "source": [
        ""
      ],
      "execution_count": null,
      "outputs": []
    }
  ]
}